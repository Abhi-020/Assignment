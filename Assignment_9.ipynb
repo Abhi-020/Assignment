{
 "cells": [
  {
   "cell_type": "markdown",
   "id": "5465c37e",
   "metadata": {},
   "source": [
    "1. To what does a relative path refer?\n",
    "Answer- The relative path refer to the path of file with respect to current woring directory(PWD)"
   ]
  },
  {
   "cell_type": "markdown",
   "id": "144e0b08",
   "metadata": {},
   "source": [
    "2. What does an absolute path start with your operating system?\n",
    "Answer-An absolute path contains the full set of directories from the root of the file system up to your target file or directory. An absolute path start with the root folder, such as / or C:."
   ]
  },
  {
   "cell_type": "markdown",
   "id": "c72e57f6",
   "metadata": {},
   "source": [
    "3. What do the functions os.getcwd() and os.chdir() do?\n",
    "Answer- getcwd stands \" get current working directory\" os.getcwd() returns path of current working directory where python is currently running.\n",
    "      chdir \"change directory\"os.chdir() method in python used to change the current directory to a particular specified path. This can be done by passing a single argument."
   ]
  },
  {
   "cell_type": "markdown",
   "id": "9c2af980",
   "metadata": {},
   "source": [
    "4. What are the . and .. folders?\n",
    "Answer- the. is the current working directory, while ..signifies the parent directory."
   ]
  },
  {
   "cell_type": "markdown",
   "id": "9029e82b",
   "metadata": {},
   "source": [
    "5. In C:\\bacon\\eggs\\spam.txt, which part is the dir name, and which part is the base name?\n",
    "  Answer- base name - spam.txt (the right most segment) syntax- os.path.basename()\n",
    "            dir name - C:\\bacon\\eggs (the folder in which file exist)  syntax - os.path.dirname()"
   ]
  },
  {
   "cell_type": "markdown",
   "id": "b6dd03a6",
   "metadata": {},
   "source": [
    "6. What are the three “mode” arguments that can be passed to the open() function?\n",
    "Answer- 1. 'r' - reading mode of a file (to read only)\n",
    "        2. 'w'- writing mode of a file (to write)\n",
    "        3. 'a' - append mode of file.(appending at the end of file)\n",
    "        4. '+' -  opening a file reading and writing mode."
   ]
  },
  {
   "cell_type": "markdown",
   "id": "0316a577",
   "metadata": {},
   "source": [
    "7. What happens if an existing file is opened in write mode?\n",
    "Answer - existing content will be over written by the new passed content."
   ]
  },
  {
   "cell_type": "markdown",
   "id": "384ac4cc",
   "metadata": {},
   "source": [
    "8. How do you tell the difference between read() and readlines()?\n",
    "Answer - read() it reads the whole content in a file.\n",
    "         readlines() this one reads the content of file till the next line. "
   ]
  },
  {
   "cell_type": "markdown",
   "id": "8a3e7c53",
   "metadata": {},
   "source": [
    "9. What data structure does a shelf value resemble?\n",
    "Answer- shelf value resembles a dictionary value, it has keys() and values() methods same as dictionary methods."
   ]
  }
 ],
 "metadata": {
  "kernelspec": {
   "display_name": "Python 3 (ipykernel)",
   "language": "python",
   "name": "python3"
  },
  "language_info": {
   "codemirror_mode": {
    "name": "ipython",
    "version": 3
   },
   "file_extension": ".py",
   "mimetype": "text/x-python",
   "name": "python",
   "nbconvert_exporter": "python",
   "pygments_lexer": "ipython3",
   "version": "3.9.7"
  }
 },
 "nbformat": 4,
 "nbformat_minor": 5
}
