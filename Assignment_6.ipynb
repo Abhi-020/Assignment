{
 "cells": [
  {
   "cell_type": "markdown",
   "id": "fcd2ae87",
   "metadata": {},
   "source": [
    "1. What are escape characters, and how do you use them?\n",
    "Answer- backslash \"\\\" it is a special character and also called as escape character.\n",
    "       it is used in representing certain whitespace characters: '\\t' is a tab.\n",
    "        '\\n' for new line. \n",
    "        prefixing  a special character with \"\\\" turns it into escape characters."
   ]
  },
  {
   "cell_type": "markdown",
   "id": "d2943b28",
   "metadata": {},
   "source": [
    "2. What do the escape characters n and t stand for?\n",
    "Answer- \"\\t\" is a tab, \"\\n\" is a new line"
   ]
  },
  {
   "cell_type": "markdown",
   "id": "dc6c313b",
   "metadata": {},
   "source": [
    "3. What is the way to include backslash characters in a string?\n",
    "Answer- by including back slash in print statement."
   ]
  },
  {
   "cell_type": "code",
   "execution_count": 1,
   "id": "ba57dd5e",
   "metadata": {},
   "outputs": [
    {
     "name": "stdout",
     "output_type": "stream",
     "text": [
      "back slash \\ sentence\n"
     ]
    }
   ],
   "source": [
    "print('back slash \\\\ sentence')"
   ]
  },
  {
   "cell_type": "markdown",
   "id": "8e928813",
   "metadata": {},
   "source": [
    "4. The string \"Howl's Moving Castle\" is a correct value. Why isn't the single quote character in the word Howl's not escaped a problem?\n",
    "Answer- we have used here double quotes to mark the beginning  and the end of the string, becaus eof this howl's single quote is not creating\n",
    "        any escaped value."
   ]
  },
  {
   "cell_type": "code",
   "execution_count": 2,
   "id": "a33eb60b",
   "metadata": {},
   "outputs": [
    {
     "name": "stdout",
     "output_type": "stream",
     "text": [
      "howl's Moving Castle\n"
     ]
    }
   ],
   "source": [
    "print(\"howl's Moving Castle\")"
   ]
  },
  {
   "cell_type": "markdown",
   "id": "8cbdf500",
   "metadata": {},
   "source": [
    "5. How do you write a string of newlines if you don't want to use the n character?\n",
    "Answer-can use end='\\n'"
   ]
  },
  {
   "cell_type": "code",
   "execution_count": 5,
   "id": "d402e529",
   "metadata": {},
   "outputs": [
    {
     "name": "stdout",
     "output_type": "stream",
     "text": [
      "printing\n",
      "ineuron\n",
      "abhishek\n"
     ]
    }
   ],
   "source": [
    "print(\"printing\", end='\\n')\n",
    "print(\"ineuron\")\n",
    "print(\"abhishek\")"
   ]
  },
  {
   "cell_type": "markdown",
   "id": "6bb2c984",
   "metadata": {},
   "source": [
    "6. What are the values of the given expressions?\n",
    "'Hello, world!'[1]\n",
    "'Hello, world!'[0:5]\n",
    "'Hello, world!'[:5]\n",
    "'Hello, world!'[3:]\n"
   ]
  },
  {
   "cell_type": "code",
   "execution_count": 6,
   "id": "2f2ca87e",
   "metadata": {},
   "outputs": [
    {
     "data": {
      "text/plain": [
       "'e'"
      ]
     },
     "execution_count": 6,
     "metadata": {},
     "output_type": "execute_result"
    }
   ],
   "source": [
    "'Hello, world!'[1]"
   ]
  },
  {
   "cell_type": "code",
   "execution_count": 7,
   "id": "684217b0",
   "metadata": {},
   "outputs": [
    {
     "data": {
      "text/plain": [
       "'Hello'"
      ]
     },
     "execution_count": 7,
     "metadata": {},
     "output_type": "execute_result"
    }
   ],
   "source": [
    "'Hello, world!'[0:5]"
   ]
  },
  {
   "cell_type": "code",
   "execution_count": 8,
   "id": "9557e1cb",
   "metadata": {},
   "outputs": [
    {
     "data": {
      "text/plain": [
       "'Hello'"
      ]
     },
     "execution_count": 8,
     "metadata": {},
     "output_type": "execute_result"
    }
   ],
   "source": [
    "'Hello, world!'[:5]"
   ]
  },
  {
   "cell_type": "code",
   "execution_count": 9,
   "id": "2b61c4aa",
   "metadata": {},
   "outputs": [
    {
     "data": {
      "text/plain": [
       "'lo, world!'"
      ]
     },
     "execution_count": 9,
     "metadata": {},
     "output_type": "execute_result"
    }
   ],
   "source": [
    "'Hello, world!'[3:]"
   ]
  },
  {
   "cell_type": "markdown",
   "id": "dcdac59d",
   "metadata": {},
   "source": [
    "7. What are the values of the following expressions?\n",
    "'Hello'.upper()\n",
    "'Hello'.upper().isupper()\n",
    "'Hello'.upper().lower()\n"
   ]
  },
  {
   "cell_type": "code",
   "execution_count": 11,
   "id": "19341131",
   "metadata": {},
   "outputs": [
    {
     "data": {
      "text/plain": [
       "'HELLO'"
      ]
     },
     "execution_count": 11,
     "metadata": {},
     "output_type": "execute_result"
    }
   ],
   "source": [
    "'Hello'.upper()"
   ]
  },
  {
   "cell_type": "code",
   "execution_count": 12,
   "id": "1a388470",
   "metadata": {},
   "outputs": [
    {
     "data": {
      "text/plain": [
       "True"
      ]
     },
     "execution_count": 12,
     "metadata": {},
     "output_type": "execute_result"
    }
   ],
   "source": [
    "'Hello'.upper().isupper()"
   ]
  },
  {
   "cell_type": "code",
   "execution_count": 13,
   "id": "c25c5ee3",
   "metadata": {},
   "outputs": [
    {
     "data": {
      "text/plain": [
       "'hello'"
      ]
     },
     "execution_count": 13,
     "metadata": {},
     "output_type": "execute_result"
    }
   ],
   "source": [
    "'Hello'.upper().lower()"
   ]
  },
  {
   "cell_type": "code",
   "execution_count": 14,
   "id": "04725094",
   "metadata": {},
   "outputs": [
    {
     "data": {
      "text/plain": [
       "'There-can-only-one.'"
      ]
     },
     "execution_count": 14,
     "metadata": {},
     "output_type": "execute_result"
    }
   ],
   "source": [
    "#8. What are the values of the following expressions?\n",
    "'Remember, remember, the fifth of July.'.split()\n",
    "'-'.join('There can only one.'.split())\n"
   ]
  },
  {
   "cell_type": "code",
   "execution_count": 15,
   "id": "3f333f84",
   "metadata": {},
   "outputs": [
    {
     "data": {
      "text/plain": [
       "['Remember,', 'remember,', 'the', 'fifth', 'of', 'July.']"
      ]
     },
     "execution_count": 15,
     "metadata": {},
     "output_type": "execute_result"
    }
   ],
   "source": [
    "'Remember, remember, the fifth of July.'.split()"
   ]
  },
  {
   "cell_type": "code",
   "execution_count": 16,
   "id": "64110f8b",
   "metadata": {},
   "outputs": [
    {
     "data": {
      "text/plain": [
       "'There-can-only-one.'"
      ]
     },
     "execution_count": 16,
     "metadata": {},
     "output_type": "execute_result"
    }
   ],
   "source": [
    "'-'.join('There can only one.'.split())"
   ]
  },
  {
   "cell_type": "markdown",
   "id": "9e1c9e4c",
   "metadata": {},
   "source": [
    "9. What are the methods for right-justifying, left-justifying, and centering a string?\n",
    "Answer- ljust()\n",
    "        rjust()\n",
    "        center()"
   ]
  },
  {
   "cell_type": "code",
   "execution_count": 17,
   "id": "73bd098f",
   "metadata": {},
   "outputs": [
    {
     "data": {
      "text/plain": [
       "'hello------'"
      ]
     },
     "execution_count": 17,
     "metadata": {},
     "output_type": "execute_result"
    }
   ],
   "source": [
    "#left-justified\n",
    "str = \"hello\"\n",
    "str.ljust(11,\"-\")"
   ]
  },
  {
   "cell_type": "code",
   "execution_count": 18,
   "id": "4c49b77c",
   "metadata": {},
   "outputs": [
    {
     "data": {
      "text/plain": [
       "'*******************how are you'"
      ]
     },
     "execution_count": 18,
     "metadata": {},
     "output_type": "execute_result"
    }
   ],
   "source": [
    "#right-justifed\n",
    "str =\"how are you\"\n",
    "str.rjust(30,'*')"
   ]
  },
  {
   "cell_type": "code",
   "execution_count": 20,
   "id": "e2783aad",
   "metadata": {},
   "outputs": [
    {
     "data": {
      "text/plain": [
       "'*********how are you**********'"
      ]
     },
     "execution_count": 20,
     "metadata": {},
     "output_type": "execute_result"
    }
   ],
   "source": [
    "#center justify\n",
    "str= \"how are you\"\n",
    "str.center(30,'*')"
   ]
  },
  {
   "cell_type": "markdown",
   "id": "6b179364",
   "metadata": {},
   "source": [
    "10. What is the best way to remove whitespace characters from the start or end?\n",
    "Answer- lstrip()- removes the whitespace character from left to right.\n",
    "        rstrip()- removes from right to left."
   ]
  },
  {
   "cell_type": "code",
   "execution_count": 21,
   "id": "cf8b0724",
   "metadata": {},
   "outputs": [
    {
     "data": {
      "text/plain": [
       "'vgvsfbsjiaf  '"
      ]
     },
     "execution_count": 21,
     "metadata": {},
     "output_type": "execute_result"
    }
   ],
   "source": [
    "str=\"   vgvsfbsjiaf  \"\n",
    "str.lstrip()"
   ]
  },
  {
   "cell_type": "code",
   "execution_count": 22,
   "id": "e291a5c6",
   "metadata": {},
   "outputs": [
    {
     "data": {
      "text/plain": [
       "'    jdghdofjepofk'"
      ]
     },
     "execution_count": 22,
     "metadata": {},
     "output_type": "execute_result"
    }
   ],
   "source": [
    "str=\"    jdghdofjepofk   \"\n",
    "str.rstrip()"
   ]
  },
  {
   "cell_type": "code",
   "execution_count": null,
   "id": "2a71c8da",
   "metadata": {},
   "outputs": [],
   "source": []
  }
 ],
 "metadata": {
  "kernelspec": {
   "display_name": "Python 3 (ipykernel)",
   "language": "python",
   "name": "python3"
  },
  "language_info": {
   "codemirror_mode": {
    "name": "ipython",
    "version": 3
   },
   "file_extension": ".py",
   "mimetype": "text/x-python",
   "name": "python",
   "nbconvert_exporter": "python",
   "pygments_lexer": "ipython3",
   "version": "3.9.7"
  }
 },
 "nbformat": 4,
 "nbformat_minor": 5
}
