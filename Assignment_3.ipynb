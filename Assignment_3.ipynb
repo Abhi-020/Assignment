{
 "cells": [
  {
   "cell_type": "markdown",
   "id": "35542d41",
   "metadata": {},
   "source": [
    "1. Why are functions advantageous to have in your programs?\n",
    "Answer- 1. it Reduces the complexity of the whole code.\n",
    "        2. Operations need not to be return again and again.\n",
    "        3. It increses the reuseability of the paricular code.\n",
    "        4. Functions could be pre-defined or it could be user defined as per need of the computation.\n",
    "    syntax: (return type)Function name(Arguments): \n",
    "                function body"
   ]
  },
  {
   "cell_type": "markdown",
   "id": "1370e60a",
   "metadata": {},
   "source": [
    "2. When does the code in a function run: when it's specified or when it's called?\n",
    "Answer - Code in function runs when it is called, not when the function is defined."
   ]
  },
  {
   "cell_type": "code",
   "execution_count": 4,
   "id": "8f152396",
   "metadata": {},
   "outputs": [
    {
     "data": {
      "text/plain": [
       "9"
      ]
     },
     "execution_count": 4,
     "metadata": {},
     "output_type": "execute_result"
    }
   ],
   "source": [
    "#Example 2:\n",
    "def add(a,b): # here function is defined\n",
    "        return a+b\n",
    "    \n",
    "add(4,5) # here function is called"
   ]
  },
  {
   "cell_type": "markdown",
   "id": "fa5e5a0c",
   "metadata": {},
   "source": [
    "3. What statement creates a function?\n",
    "Answer- example\n",
    "       def test(a,b): # here, function created by defining (def)it.\n",
    "        s= a+b\n",
    "        return s"
   ]
  },
  {
   "cell_type": "markdown",
   "id": "c26f703d",
   "metadata": {},
   "source": [
    "4. What is the difference between a function and a function call?\n",
    "Answer- Function is kind a procedure to achieve a particular result  while Function Call is using that particular function to achive that task."
   ]
  },
  {
   "cell_type": "markdown",
   "id": "3eeaf252",
   "metadata": {},
   "source": [
    "5. How many global scopes are there in a Python program? How many local scopes?\n",
    "Answer - one Global scopes, variable creared ouside the function belongs to global scope and can be used everywhere. Whereas,Local scope variable are created within the function and are only available within the function, local scope is created whenever a function is called."
   ]
  },
  {
   "cell_type": "markdown",
   "id": "1dfc4335",
   "metadata": {},
   "source": [
    "6. What happens to variables in a local scope when the function call returns?\n",
    "Answer - when function call returns after the execution is completed, each time the call of function creates new local variables and their lifetime expires."
   ]
  },
  {
   "cell_type": "markdown",
   "id": "ddce5532",
   "metadata": {},
   "source": [
    "7. What is the concept of a return value? Is it possible to have a return value in an expression?\n",
    "Answer- The values that a function returns when it has completed the execution is the return value.\n",
    "        yes , it is possible to have return value in an expression."
   ]
  },
  {
   "cell_type": "markdown",
   "id": "f93a2dc0",
   "metadata": {},
   "source": [
    "8. If a function does not have a return statement, what is the return value of a call to that function?\n",
    "Answer- it will return NONE"
   ]
  },
  {
   "cell_type": "markdown",
   "id": "d634dfcf",
   "metadata": {},
   "source": [
    "9. How do you make a function variable refer to the global variable?\n",
    "Answer- To refer a variable to the global variable , use keyword - global before declaring the variable.\n",
    "example - global a # declaring a variable with global keyword"
   ]
  },
  {
   "cell_type": "markdown",
   "id": "d868acfe",
   "metadata": {},
   "source": [
    "10. What is the data type of None?\n",
    "Answer- NoneType\n"
   ]
  },
  {
   "cell_type": "code",
   "execution_count": 6,
   "id": "8eeafeb2",
   "metadata": {},
   "outputs": [
    {
     "data": {
      "text/plain": [
       "NoneType"
      ]
     },
     "execution_count": 6,
     "metadata": {},
     "output_type": "execute_result"
    }
   ],
   "source": [
    "type(None)"
   ]
  },
  {
   "cell_type": "code",
   "execution_count": null,
   "id": "b559def0",
   "metadata": {},
   "outputs": [],
   "source": [
    "11. What does the sentence import areallyourpetsnamederic do?"
   ]
  },
  {
   "cell_type": "code",
   "execution_count": 7,
   "id": "fae9117b",
   "metadata": {},
   "outputs": [
    {
     "ename": "ModuleNotFoundError",
     "evalue": "No module named 'areallyourpetsnamederic'",
     "output_type": "error",
     "traceback": [
      "\u001b[1;31m---------------------------------------------------------------------------\u001b[0m",
      "\u001b[1;31mModuleNotFoundError\u001b[0m                       Traceback (most recent call last)",
      "\u001b[1;32mC:\\Users\\PREETA~1\\AppData\\Local\\Temp/ipykernel_12716/51184242.py\u001b[0m in \u001b[0;36m<module>\u001b[1;34m\u001b[0m\n\u001b[1;32m----> 1\u001b[1;33m \u001b[1;32mimport\u001b[0m \u001b[0mareallyourpetsnamederic\u001b[0m\u001b[1;33m\u001b[0m\u001b[1;33m\u001b[0m\u001b[0m\n\u001b[0m",
      "\u001b[1;31mModuleNotFoundError\u001b[0m: No module named 'areallyourpetsnamederic'"
     ]
    }
   ],
   "source": [
    "import areallyourpetsnamederic"
   ]
  },
  {
   "cell_type": "markdown",
   "id": "9544ba51",
   "metadata": {},
   "source": [
    "12. If you had a bacon() feature in a spam module, what would you call it after importing spam?\n",
    "Answer- this function can be called with spam.bacon()\n",
    "      like- import spam\n",
    "            spam.bacon()"
   ]
  },
  {
   "cell_type": "markdown",
   "id": "94260b88",
   "metadata": {},
   "source": [
    "13. What can you do to save a programme from crashing if it encounters an error?\n",
    "Answer- we can write lines of code in try block. This will not crash the programme. And in except block we can catch the \n",
    "        exception"
   ]
  },
  {
   "cell_type": "markdown",
   "id": "463e4ce1",
   "metadata": {},
   "source": [
    "14. What is the purpose of the try clause? What is the purpose of the except clause?\n",
    "Answer- Try: the code that could potentially cause an error goes in the try clause.\n",
    "        except :The code that executes if an error  happens goes in the except clause, like print statement. logging               statement."
   ]
  }
 ],
 "metadata": {
  "kernelspec": {
   "display_name": "Python 3 (ipykernel)",
   "language": "python",
   "name": "python3"
  },
  "language_info": {
   "codemirror_mode": {
    "name": "ipython",
    "version": 3
   },
   "file_extension": ".py",
   "mimetype": "text/x-python",
   "name": "python",
   "nbconvert_exporter": "python",
   "pygments_lexer": "ipython3",
   "version": "3.9.7"
  }
 },
 "nbformat": 4,
 "nbformat_minor": 5
}
