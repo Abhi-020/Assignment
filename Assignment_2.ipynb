{
 "cells": [
  {
   "cell_type": "markdown",
   "id": "37a44fad",
   "metadata": {},
   "source": [
    "1.What are the two values of the Boolean data type? How do you write them?\n",
    "Answer- Two values are-\n",
    "       1. True --- 1\n",
    "       2. False --- 0"
   ]
  },
  {
   "cell_type": "markdown",
   "id": "6c1be4d5",
   "metadata": {},
   "source": [
    "2. What are the three different types of Boolean operators?\n",
    " Answer- 1. AND (&&)\n",
    "        2. OR  (||)\n",
    "        3. NOT  (!)"
   ]
  },
  {
   "cell_type": "markdown",
   "id": "b3388160",
   "metadata": {},
   "source": [
    "3. Make a list of each Boolean operator's truth tables (i.e., every possible combination of Boolean values for the operator and what it evaluates).\n",
    "Answer- AND          OR          NOT\n",
    "        A  B  Q    A  B  Q     A  Q\n",
    "        0  0  0    0  0  0     0  1\n",
    "        0  1  0    0  1  1     1  0\n",
    "        1  0  0    1  0  1\n",
    "        1  1  0    1  1  1"
   ]
  },
  {
   "cell_type": "markdown",
   "id": "1ac678d0",
   "metadata": {},
   "source": [
    "4.4. What are the values of the following expressions?\n",
    "(5 > 4) and (3 == 5) --> False\n",
    "not (5 > 4) --->  False\n",
    "(5 > 4) or (3 == 5) ---> True\n",
    "not ((5 > 4) or (3 == 5)) ---> False\n",
    "(True and True) and (True == False) ---> False\n",
    "(not False) or (not True) ---> True\n"
   ]
  },
  {
   "cell_type": "markdown",
   "id": "10c90a74",
   "metadata": {},
   "source": [
    "5. What are the six comparison operators?\n",
    "Answer- 1. less than(<)\n",
    "        2. greater than (>)\n",
    "        3. less than or equal to (<=)\n",
    "        4. Greater than or equal to (>=)\n",
    "        5. Equal to (==)\n",
    "        6. Not equal to (!=)"
   ]
  },
  {
   "cell_type": "markdown",
   "id": "8e9329f7",
   "metadata": {},
   "source": [
    "6. How do you tell the difference between the equal to and assignment operators?\n",
    "Describe a condition and when you would use one.\n",
    "Answer- Equal to(==) operator we use whwn we have to check a condition for equality.\n",
    "        Assignment (=) operator is used when we have to assign a value to a variable.\n",
    "    "
   ]
  },
  {
   "cell_type": "code",
   "execution_count": 19,
   "id": "886bce0d",
   "metadata": {},
   "outputs": [
    {
     "name": "stdout",
     "output_type": "stream",
     "text": [
      "both no. are not same\n"
     ]
    }
   ],
   "source": [
    "#6th question example\n",
    "a= 10  \n",
    "b= 20 # assigment operator\n",
    "a,b\n",
    "\n",
    "if a== b:\n",
    "    print(\"both no. are same\")\n",
    "else:\n",
    "    print(\"both no. are not same\")"
   ]
  },
  {
   "cell_type": "code",
   "execution_count": 27,
   "id": "a79c3c1d",
   "metadata": {},
   "outputs": [
    {
     "name": "stdout",
     "output_type": "stream",
     "text": [
      "ham\n",
      "spam\n",
      "spam\n"
     ]
    }
   ],
   "source": [
    "# 7. Identify the three blocks in this code:\n",
    "spam = 0\n",
    "#block1\n",
    "if spam == 10:\n",
    "    print('eggs')\n",
    "#block 2\n",
    "if spam > 5:\n",
    "    print('bacon')\n",
    "#block 3\n",
    "else:\n",
    "    print('ham')\n",
    "print('spam')\n",
    "print('spam')\n"
   ]
  },
  {
   "cell_type": "code",
   "execution_count": 55,
   "id": "6c394457",
   "metadata": {},
   "outputs": [
    {
     "name": "stdout",
     "output_type": "stream",
     "text": [
      "enter spam  :2\n",
      "Howdy\n"
     ]
    }
   ],
   "source": [
    "#8. Write code that prints Hello if 1 is stored in spam, prints Howdy if 2 is stored in spam, and prints Greetings! if anything else is stored in spam.\n",
    "\n",
    "spam =int(input(\"enter spam  :\"))\n",
    "if spam == 1:\n",
    "    print(\"Hello\")\n",
    "elif spam == 2:\n",
    "        print(\"Howdy\")\n",
    "else:\n",
    "    print(\"Greetings\")"
   ]
  },
  {
   "cell_type": "markdown",
   "id": "cd4e61f8",
   "metadata": {},
   "source": [
    "9.If your programme is stuck in an endless loop, what keys you’ll press?\n",
    "Answer- 1. we can interupt the kernal.\n",
    "        2. Resatart the kernal"
   ]
  },
  {
   "cell_type": "code",
   "execution_count": 75,
   "id": "38873da6",
   "metadata": {},
   "outputs": [
    {
     "name": "stdout",
     "output_type": "stream",
     "text": [
      "1\n",
      "2\n",
      "3\n"
     ]
    }
   ],
   "source": [
    "#10. How can you tell the difference between break and continue?\n",
    "l=[1,2,3,4,5]\n",
    "for i in range(len(l)):\n",
    "    if l[i]== 4:\n",
    "        break  # break exit out from the current working loop when our condition is met\n",
    "    else:\n",
    "        print(l[i])"
   ]
  },
  {
   "cell_type": "code",
   "execution_count": 63,
   "id": "81d5197d",
   "metadata": {},
   "outputs": [
    {
     "name": "stdout",
     "output_type": "stream",
     "text": [
      "2\n",
      "4\n",
      "6\n",
      "8\n"
     ]
    }
   ],
   "source": [
    "#10.2 Continue\n",
    "l=[2,4,5,6,8]\n",
    "for i in range(len(l)):\n",
    "    if l[i]== 5:\n",
    "        continue # it skips that paricular condition and move forward with loop\n",
    "    else:\n",
    "        print(l[i])"
   ]
  },
  {
   "cell_type": "markdown",
   "id": "e04f41f7",
   "metadata": {},
   "source": [
    "#11. In a for loop, what is the difference between range(10), range(0, 10), and range(0, 10, 1)?\n",
    "Answer- range(10) (stop) by default it will start from 0 till (10-1)\n",
    "        range(0,10)(start,stop) here two arguments , where starting and ending both are defined.\n",
    "        range(0,10,1)(start, stop,step)here, three arguments , where start, end and step for increment  arguments are defined."
   ]
  },
  {
   "cell_type": "markdown",
   "id": "6bcd890e",
   "metadata": {},
   "source": [
    "12. Write a short program that prints the numbers 1 to 10 using a for loop. Then write an equivalent program that prints the numbers 1 to 10 using a while loop."
   ]
  },
  {
   "cell_type": "markdown",
   "id": "52134100",
   "metadata": {},
   "source": [
    "12.1 FOR lOOP"
   ]
  },
  {
   "cell_type": "code",
   "execution_count": 72,
   "id": "7ab8e71d",
   "metadata": {},
   "outputs": [
    {
     "name": "stdout",
     "output_type": "stream",
     "text": [
      "1 2 3 4 5 6 7 8 9 10 "
     ]
    }
   ],
   "source": [
    "for i in range(1,11):\n",
    "    print(i , end= \" \")"
   ]
  },
  {
   "cell_type": "markdown",
   "id": "678ad862",
   "metadata": {},
   "source": [
    "12.2 WHILE LOOP"
   ]
  },
  {
   "cell_type": "code",
   "execution_count": 74,
   "id": "af4c2d7b",
   "metadata": {},
   "outputs": [
    {
     "name": "stdout",
     "output_type": "stream",
     "text": [
      "1 2 3 4 5 6 7 8 9 10 "
     ]
    }
   ],
   "source": [
    "i =1\n",
    "while i<=10:\n",
    "    print(i, end=\" \")\n",
    "    i+=1"
   ]
  },
  {
   "cell_type": "markdown",
   "id": "5a4b40bf",
   "metadata": {},
   "source": [
    "13. If you had a function named bacon() inside a module named spam, how would you call it after importing spam?\n",
    " Answer. Function can be called as spam.bacon()"
   ]
  }
 ],
 "metadata": {
  "kernelspec": {
   "display_name": "Python 3 (ipykernel)",
   "language": "python",
   "name": "python3"
  },
  "language_info": {
   "codemirror_mode": {
    "name": "ipython",
    "version": 3
   },
   "file_extension": ".py",
   "mimetype": "text/x-python",
   "name": "python",
   "nbconvert_exporter": "python",
   "pygments_lexer": "ipython3",
   "version": "3.9.7"
  }
 },
 "nbformat": 4,
 "nbformat_minor": 5
}
