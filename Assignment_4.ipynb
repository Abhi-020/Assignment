{
 "cells": [
  {
   "cell_type": "markdown",
   "id": "5d8c51d6",
   "metadata": {},
   "source": [
    "1. What exactly is []?\n",
    "Answer- [] is an empty list.\n",
    "       example- l=[]"
   ]
  },
  {
   "cell_type": "markdown",
   "id": "b1b1df49",
   "metadata": {},
   "source": [
    "2. In a list of values stored in a variable called spam, how would you assign the value 'hello' as the third value? (Assume [2, 4, 6, 8, 10] are in spam.)"
   ]
  },
  {
   "cell_type": "code",
   "execution_count": 1,
   "id": "b9462cce",
   "metadata": {},
   "outputs": [
    {
     "data": {
      "text/plain": [
       "[2, 4, 'hello', 8, 10]"
      ]
     },
     "execution_count": 1,
     "metadata": {},
     "output_type": "execute_result"
    }
   ],
   "source": [
    "l=[2,4,6,8,10]\n",
    "l[2]=\"hello\"\n",
    "l"
   ]
  },
  {
   "cell_type": "code",
   "execution_count": 2,
   "id": "71cde371",
   "metadata": {},
   "outputs": [
    {
     "data": {
      "text/plain": [
       "[2, 4, 'hello', 6, 8, 10]"
      ]
     },
     "execution_count": 2,
     "metadata": {},
     "output_type": "execute_result"
    }
   ],
   "source": [
    "#using insert\n",
    "l=[2,4,6,8,10]\n",
    "l.insert(2,\"hello\")\n",
    "l"
   ]
  },
  {
   "cell_type": "markdown",
   "id": "e0a6a032",
   "metadata": {},
   "source": [
    "3. What is the value of spam[int(int('3' * 2) / 11)]?"
   ]
  },
  {
   "cell_type": "code",
   "execution_count": 4,
   "id": "5eb0f89c",
   "metadata": {},
   "outputs": [
    {
     "data": {
      "text/plain": [
       "8"
      ]
     },
     "execution_count": 4,
     "metadata": {},
     "output_type": "execute_result"
    }
   ],
   "source": [
    "#let assume\n",
    "spam=[2,4,6,8,10]\n",
    "spam[int(int('3'*2)/11)]"
   ]
  },
  {
   "cell_type": "markdown",
   "id": "010414dc",
   "metadata": {},
   "source": [
    "4. What is the value of spam[-1]?"
   ]
  },
  {
   "cell_type": "code",
   "execution_count": 5,
   "id": "feadad3c",
   "metadata": {},
   "outputs": [
    {
     "data": {
      "text/plain": [
       "10"
      ]
     },
     "execution_count": 5,
     "metadata": {},
     "output_type": "execute_result"
    }
   ],
   "source": [
    "spam[-1]"
   ]
  },
  {
   "cell_type": "markdown",
   "id": "0723ba9f",
   "metadata": {},
   "source": [
    "5. What is the value of spam[:2]?"
   ]
  },
  {
   "cell_type": "code",
   "execution_count": 6,
   "id": "b1507dc2",
   "metadata": {},
   "outputs": [
    {
     "data": {
      "text/plain": [
       "[2, 4]"
      ]
     },
     "execution_count": 6,
     "metadata": {},
     "output_type": "execute_result"
    }
   ],
   "source": [
    "spam[:2]"
   ]
  },
  {
   "cell_type": "markdown",
   "id": "50b53953",
   "metadata": {},
   "source": [
    "# Let's pretend bacon has the list [3.14, 'cat,' 11, 'cat,' True] for the next three questions"
   ]
  },
  {
   "cell_type": "markdown",
   "id": "698aed79",
   "metadata": {},
   "source": [
    "6. What is the value of bacon.index('cat')?"
   ]
  },
  {
   "cell_type": "code",
   "execution_count": 18,
   "id": "37a08754",
   "metadata": {},
   "outputs": [
    {
     "data": {
      "text/plain": [
       "1"
      ]
     },
     "execution_count": 18,
     "metadata": {},
     "output_type": "execute_result"
    }
   ],
   "source": [
    "bacon=[3.14,'cat',11,'cat',True]\n",
    "bacon.index('cat')"
   ]
  },
  {
   "cell_type": "markdown",
   "id": "4a766c61",
   "metadata": {},
   "source": [
    "7. How does bacon.append(99) change the look of the list value in bacon?"
   ]
  },
  {
   "cell_type": "code",
   "execution_count": 19,
   "id": "7c213a7b",
   "metadata": {},
   "outputs": [
    {
     "data": {
      "text/plain": [
       "[3.14, 'cat', 11, 'cat', True, 99]"
      ]
     },
     "execution_count": 19,
     "metadata": {},
     "output_type": "execute_result"
    }
   ],
   "source": [
    "bacon.append(99)\n",
    "bacon # append adds the item at the end of the list"
   ]
  },
  {
   "cell_type": "markdown",
   "id": "58aa78d9",
   "metadata": {},
   "source": [
    "8. How does bacon.remove('cat') change the look of the list in bacon?"
   ]
  },
  {
   "cell_type": "code",
   "execution_count": 20,
   "id": "922a99fb",
   "metadata": {},
   "outputs": [
    {
     "data": {
      "text/plain": [
       "[3.14, 11, 'cat', True, 99]"
      ]
     },
     "execution_count": 20,
     "metadata": {},
     "output_type": "execute_result"
    }
   ],
   "source": [
    "bacon.remove('cat')\n",
    "bacon"
   ]
  },
  {
   "cell_type": "markdown",
   "id": "5eaa092b",
   "metadata": {},
   "source": [
    "9. What are the list concatenation and list replication operators?\n",
    "Answer- * -> this is the list replication operator\n",
    "        + -> This is the list concatenation operator"
   ]
  },
  {
   "cell_type": "code",
   "execution_count": 22,
   "id": "f93fcbdb",
   "metadata": {},
   "outputs": [
    {
     "data": {
      "text/plain": [
       "[1, 3, 1, 3, 1, 3]"
      ]
     },
     "execution_count": 22,
     "metadata": {},
     "output_type": "execute_result"
    }
   ],
   "source": [
    "#list replication\n",
    "l1=[1,3]\n",
    "l2=[6,2]\n",
    "l1*3\n"
   ]
  },
  {
   "cell_type": "code",
   "execution_count": 23,
   "id": "b8ab6291",
   "metadata": {},
   "outputs": [
    {
     "data": {
      "text/plain": [
       "[1, 3, 6, 2]"
      ]
     },
     "execution_count": 23,
     "metadata": {},
     "output_type": "execute_result"
    }
   ],
   "source": [
    "#list cocatenation\n",
    "l1+l2"
   ]
  },
  {
   "cell_type": "markdown",
   "id": "716b2bb6",
   "metadata": {},
   "source": [
    "10. What is difference between the list methods append() and insert()?\n",
    "Answer- append() -> Append object adds the to the end of list\n",
    "        insert() -> Inset object before index"
   ]
  },
  {
   "cell_type": "code",
   "execution_count": 28,
   "id": "b7b17e33",
   "metadata": {},
   "outputs": [
    {
     "data": {
      "text/plain": [
       "[11, 'boy', 24, 'girl', 25]"
      ]
     },
     "execution_count": 28,
     "metadata": {},
     "output_type": "execute_result"
    }
   ],
   "source": [
    "#example\n",
    "l3=[11,'boy',24,'girl']\n",
    "l3.append(25) #append operation\n",
    "l3"
   ]
  },
  {
   "cell_type": "code",
   "execution_count": 29,
   "id": "b2662e45",
   "metadata": {},
   "outputs": [
    {
     "data": {
      "text/plain": [
       "[11, 'boy', 'Abhi', 24, 'girl', 25]"
      ]
     },
     "execution_count": 29,
     "metadata": {},
     "output_type": "execute_result"
    }
   ],
   "source": [
    "l3.insert(2,'Abhi')\n",
    "l3"
   ]
  },
  {
   "cell_type": "markdown",
   "id": "71d7e462",
   "metadata": {},
   "source": [
    "11. What are the two methods for removing items from a list?\n",
    "Answer- remove(item)- it removes the first occurance of a item\n",
    "        pop()- Remove and returns item  at index (default last)\n",
    "        del(list) - deletes the list"
   ]
  },
  {
   "cell_type": "code",
   "execution_count": 30,
   "id": "339d8736",
   "metadata": {},
   "outputs": [
    {
     "data": {
      "text/plain": [
       "[3.14, 11, 'cat', True]"
      ]
     },
     "execution_count": 30,
     "metadata": {},
     "output_type": "execute_result"
    }
   ],
   "source": [
    "#example\n",
    "bacon = [3.14, 'cat', 11, 'cat', True]\n",
    "bacon.remove('cat')\n",
    "bacon"
   ]
  },
  {
   "cell_type": "code",
   "execution_count": 31,
   "id": "735a7991",
   "metadata": {},
   "outputs": [
    {
     "data": {
      "text/plain": [
       "[3.14, 'cat', 11, 'cat']"
      ]
     },
     "execution_count": 31,
     "metadata": {},
     "output_type": "execute_result"
    }
   ],
   "source": [
    "bacon = [3.14, 'cat', 11, 'cat', True]\n",
    "bacon.pop()\n",
    "bacon"
   ]
  },
  {
   "cell_type": "markdown",
   "id": "5f471079",
   "metadata": {},
   "source": [
    "12. Describe how list values and string values are identical.\n",
    "Answer - 1. both string and list have index and can be sliced\n",
    "         2. both can be used in loops\n",
    "         3. can be replicated and concatenated\n",
    "         4. both can be passed to len() function to get the length of it."
   ]
  },
  {
   "cell_type": "markdown",
   "id": "9c5d7441",
   "metadata": {},
   "source": [
    "13. What's the difference between tuples and lists?\n",
    "Answer - lists : are mutable- they can have values added, removed or changed\n",
    "         list uses square brackets []\n",
    "         Tuple : are immutable- they cannot be changed.\n",
    "         Tuples are written  using parentheses ()       \n",
    "         "
   ]
  },
  {
   "cell_type": "markdown",
   "id": "67d91d5c",
   "metadata": {},
   "source": [
    "14. How do you type a tuple value that only contains the integer 42?\n"
   ]
  },
  {
   "cell_type": "code",
   "execution_count": 32,
   "id": "6b477615",
   "metadata": {},
   "outputs": [
    {
     "data": {
      "text/plain": [
       "42"
      ]
     },
     "execution_count": 32,
     "metadata": {},
     "output_type": "execute_result"
    }
   ],
   "source": [
    "tup =(42)\n",
    "tup"
   ]
  },
  {
   "cell_type": "markdown",
   "id": "de1685d4",
   "metadata": {},
   "source": [
    "15. How do you get a list value's tuple form? How do you get a tuple value's list form?\n",
    "Answer : this can be done by using tuple() and list() functions."
   ]
  },
  {
   "cell_type": "code",
   "execution_count": 33,
   "id": "e224ef9a",
   "metadata": {},
   "outputs": [
    {
     "data": {
      "text/plain": [
       "(4, 5, 6)"
      ]
     },
     "execution_count": 33,
     "metadata": {},
     "output_type": "execute_result"
    }
   ],
   "source": [
    "#example 15.1\n",
    "l1 =[4,5,6]\n",
    "l = tuple(l1)\n",
    "l"
   ]
  },
  {
   "cell_type": "code",
   "execution_count": 34,
   "id": "2459518b",
   "metadata": {},
   "outputs": [
    {
     "data": {
      "text/plain": [
       "[7, 8, 9]"
      ]
     },
     "execution_count": 34,
     "metadata": {},
     "output_type": "execute_result"
    }
   ],
   "source": [
    "#example 15.2\n",
    "tup=(7,8,9)\n",
    "tuple = list(tup)\n",
    "tuple"
   ]
  },
  {
   "cell_type": "markdown",
   "id": "a2b6bb7c",
   "metadata": {},
   "source": [
    "16. Variables that \"contain\" list values are not necessarily lists themselves. Instead, what do they contain?\n",
    "Answer : They contain references list values"
   ]
  },
  {
   "cell_type": "markdown",
   "id": "afd8a41d",
   "metadata": {},
   "source": [
    "17. How do you distinguish between copy.copy() and copy.deepcopy()?\n",
    "Answer: The copy.copy() function will do a shallow copy of a list, \n",
    "        The copy.deepcopy() function will do a deep copy of a list. only copy.deepcopy() will duplicate any lists inside           the list.\n",
    "         "
   ]
  }
 ],
 "metadata": {
  "kernelspec": {
   "display_name": "Python 3 (ipykernel)",
   "language": "python",
   "name": "python3"
  },
  "language_info": {
   "codemirror_mode": {
    "name": "ipython",
    "version": 3
   },
   "file_extension": ".py",
   "mimetype": "text/x-python",
   "name": "python",
   "nbconvert_exporter": "python",
   "pygments_lexer": "ipython3",
   "version": "3.9.7"
  }
 },
 "nbformat": 4,
 "nbformat_minor": 5
}
